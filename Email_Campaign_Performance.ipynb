{
  "cells": [
    {
      "cell_type": "code",
      "execution_count": 1,
      "metadata": {
        "id": "bMNPyk4Ah5aU"
      },
      "outputs": [],
      "source": [
        "import pandas as pd\n",
        "import numpy as np\n",
        "import matplotlib.pyplot as plt\n",
        "import seaborn as sns\n",
        "from sklearn.model_selection import train_test_split\n",
        "from sklearn.ensemble import RandomForestClassifier\n",
        "from sklearn.metrics import classification_report, confusion_matrix\n",
        "from sklearn.preprocessing import LabelEncoder"
      ]
    },
    {
      "cell_type": "code",
      "execution_count": 2,
      "metadata": {
        "id": "LPXozlhpkBYa"
      },
      "outputs": [],
      "source": [
        "email_table = pd.read_csv(\"/content/email_table.csv\")\n",
        "opened_emails = pd.read_csv(\"/content/email_opened_table.csv\")\n",
        "link_clicked = pd.read_csv(\"/content/link_clicked_table.csv\")"
      ]
    },
    {
      "cell_type": "code",
      "execution_count": 3,
      "metadata": {
        "id": "GHNS3b_GkOCY"
      },
      "outputs": [],
      "source": [
        "email_table['opened'] = email_table['email_id'].isin(opened_emails['email_id']).astype(int)\n",
        "email_table['clicked'] = email_table['email_id'].isin(link_clicked['email_id']).astype(int)"
      ]
    },
    {
      "cell_type": "code",
      "execution_count": 4,
      "metadata": {
        "colab": {
          "base_uri": "https://localhost:8080/",
          "height": 206
        },
        "id": "tUHVIjs5kxsT",
        "outputId": "733e3cd2-5117-41c9-8056-7ec296f2780f"
      },
      "outputs": [
        {
          "data": {
            "application/vnd.google.colaboratory.intrinsic+json": {
              "summary": "{\n  \"name\": \"email_table\",\n  \"rows\": 100000,\n  \"fields\": [\n    {\n      \"column\": \"email_id\",\n      \"properties\": {\n        \"dtype\": \"number\",\n        \"std\": 289230,\n        \"min\": 8,\n        \"max\": 999998,\n        \"num_unique_values\": 100000,\n        \"samples\": [\n          416549,\n          248222,\n          242229\n        ],\n        \"semantic_type\": \"\",\n        \"description\": \"\"\n      }\n    },\n    {\n      \"column\": \"email_text\",\n      \"properties\": {\n        \"dtype\": \"category\",\n        \"num_unique_values\": 2,\n        \"samples\": [\n          \"long_email\",\n          \"short_email\"\n        ],\n        \"semantic_type\": \"\",\n        \"description\": \"\"\n      }\n    },\n    {\n      \"column\": \"email_version\",\n      \"properties\": {\n        \"dtype\": \"category\",\n        \"num_unique_values\": 2,\n        \"samples\": [\n          \"generic\",\n          \"personalized\"\n        ],\n        \"semantic_type\": \"\",\n        \"description\": \"\"\n      }\n    },\n    {\n      \"column\": \"hour\",\n      \"properties\": {\n        \"dtype\": \"number\",\n        \"std\": 4,\n        \"min\": 1,\n        \"max\": 24,\n        \"num_unique_values\": 24,\n        \"samples\": [\n          23,\n          17\n        ],\n        \"semantic_type\": \"\",\n        \"description\": \"\"\n      }\n    },\n    {\n      \"column\": \"weekday\",\n      \"properties\": {\n        \"dtype\": \"category\",\n        \"num_unique_values\": 7,\n        \"samples\": [\n          \"Sunday\",\n          \"Wednesday\"\n        ],\n        \"semantic_type\": \"\",\n        \"description\": \"\"\n      }\n    },\n    {\n      \"column\": \"user_country\",\n      \"properties\": {\n        \"dtype\": \"category\",\n        \"num_unique_values\": 4,\n        \"samples\": [\n          \"UK\",\n          \"ES\"\n        ],\n        \"semantic_type\": \"\",\n        \"description\": \"\"\n      }\n    },\n    {\n      \"column\": \"user_past_purchases\",\n      \"properties\": {\n        \"dtype\": \"number\",\n        \"std\": 3,\n        \"min\": 0,\n        \"max\": 22,\n        \"num_unique_values\": 23,\n        \"samples\": [\n          14,\n          11\n        ],\n        \"semantic_type\": \"\",\n        \"description\": \"\"\n      }\n    },\n    {\n      \"column\": \"opened\",\n      \"properties\": {\n        \"dtype\": \"number\",\n        \"std\": 0,\n        \"min\": 0,\n        \"max\": 1,\n        \"num_unique_values\": 2,\n        \"samples\": [\n          1,\n          0\n        ],\n        \"semantic_type\": \"\",\n        \"description\": \"\"\n      }\n    },\n    {\n      \"column\": \"clicked\",\n      \"properties\": {\n        \"dtype\": \"number\",\n        \"std\": 0,\n        \"min\": 0,\n        \"max\": 1,\n        \"num_unique_values\": 2,\n        \"samples\": [\n          1,\n          0\n        ],\n        \"semantic_type\": \"\",\n        \"description\": \"\"\n      }\n    }\n  ]\n}",
              "type": "dataframe",
              "variable_name": "email_table"
            },
            "text/html": [
              "\n",
              "  <div id=\"df-3c8f5c15-b2bc-43ba-b6e6-224e6e4f26d4\" class=\"colab-df-container\">\n",
              "    <div>\n",
              "<style scoped>\n",
              "    .dataframe tbody tr th:only-of-type {\n",
              "        vertical-align: middle;\n",
              "    }\n",
              "\n",
              "    .dataframe tbody tr th {\n",
              "        vertical-align: top;\n",
              "    }\n",
              "\n",
              "    .dataframe thead th {\n",
              "        text-align: right;\n",
              "    }\n",
              "</style>\n",
              "<table border=\"1\" class=\"dataframe\">\n",
              "  <thead>\n",
              "    <tr style=\"text-align: right;\">\n",
              "      <th></th>\n",
              "      <th>email_id</th>\n",
              "      <th>email_text</th>\n",
              "      <th>email_version</th>\n",
              "      <th>hour</th>\n",
              "      <th>weekday</th>\n",
              "      <th>user_country</th>\n",
              "      <th>user_past_purchases</th>\n",
              "      <th>opened</th>\n",
              "      <th>clicked</th>\n",
              "    </tr>\n",
              "  </thead>\n",
              "  <tbody>\n",
              "    <tr>\n",
              "      <th>0</th>\n",
              "      <td>85120</td>\n",
              "      <td>short_email</td>\n",
              "      <td>personalized</td>\n",
              "      <td>2</td>\n",
              "      <td>Sunday</td>\n",
              "      <td>US</td>\n",
              "      <td>5</td>\n",
              "      <td>0</td>\n",
              "      <td>0</td>\n",
              "    </tr>\n",
              "    <tr>\n",
              "      <th>1</th>\n",
              "      <td>966622</td>\n",
              "      <td>long_email</td>\n",
              "      <td>personalized</td>\n",
              "      <td>12</td>\n",
              "      <td>Sunday</td>\n",
              "      <td>UK</td>\n",
              "      <td>2</td>\n",
              "      <td>1</td>\n",
              "      <td>1</td>\n",
              "    </tr>\n",
              "    <tr>\n",
              "      <th>2</th>\n",
              "      <td>777221</td>\n",
              "      <td>long_email</td>\n",
              "      <td>personalized</td>\n",
              "      <td>11</td>\n",
              "      <td>Wednesday</td>\n",
              "      <td>US</td>\n",
              "      <td>2</td>\n",
              "      <td>0</td>\n",
              "      <td>0</td>\n",
              "    </tr>\n",
              "    <tr>\n",
              "      <th>3</th>\n",
              "      <td>493711</td>\n",
              "      <td>short_email</td>\n",
              "      <td>generic</td>\n",
              "      <td>6</td>\n",
              "      <td>Monday</td>\n",
              "      <td>UK</td>\n",
              "      <td>1</td>\n",
              "      <td>0</td>\n",
              "      <td>0</td>\n",
              "    </tr>\n",
              "    <tr>\n",
              "      <th>4</th>\n",
              "      <td>106887</td>\n",
              "      <td>long_email</td>\n",
              "      <td>generic</td>\n",
              "      <td>14</td>\n",
              "      <td>Monday</td>\n",
              "      <td>US</td>\n",
              "      <td>6</td>\n",
              "      <td>0</td>\n",
              "      <td>0</td>\n",
              "    </tr>\n",
              "  </tbody>\n",
              "</table>\n",
              "</div>\n",
              "    <div class=\"colab-df-buttons\">\n",
              "\n",
              "  <div class=\"colab-df-container\">\n",
              "    <button class=\"colab-df-convert\" onclick=\"convertToInteractive('df-3c8f5c15-b2bc-43ba-b6e6-224e6e4f26d4')\"\n",
              "            title=\"Convert this dataframe to an interactive table.\"\n",
              "            style=\"display:none;\">\n",
              "\n",
              "  <svg xmlns=\"http://www.w3.org/2000/svg\" height=\"24px\" viewBox=\"0 -960 960 960\">\n",
              "    <path d=\"M120-120v-720h720v720H120Zm60-500h600v-160H180v160Zm220 220h160v-160H400v160Zm0 220h160v-160H400v160ZM180-400h160v-160H180v160Zm440 0h160v-160H620v160ZM180-180h160v-160H180v160Zm440 0h160v-160H620v160Z\"/>\n",
              "  </svg>\n",
              "    </button>\n",
              "\n",
              "  <style>\n",
              "    .colab-df-container {\n",
              "      display:flex;\n",
              "      gap: 12px;\n",
              "    }\n",
              "\n",
              "    .colab-df-convert {\n",
              "      background-color: #E8F0FE;\n",
              "      border: none;\n",
              "      border-radius: 50%;\n",
              "      cursor: pointer;\n",
              "      display: none;\n",
              "      fill: #1967D2;\n",
              "      height: 32px;\n",
              "      padding: 0 0 0 0;\n",
              "      width: 32px;\n",
              "    }\n",
              "\n",
              "    .colab-df-convert:hover {\n",
              "      background-color: #E2EBFA;\n",
              "      box-shadow: 0px 1px 2px rgba(60, 64, 67, 0.3), 0px 1px 3px 1px rgba(60, 64, 67, 0.15);\n",
              "      fill: #174EA6;\n",
              "    }\n",
              "\n",
              "    .colab-df-buttons div {\n",
              "      margin-bottom: 4px;\n",
              "    }\n",
              "\n",
              "    [theme=dark] .colab-df-convert {\n",
              "      background-color: #3B4455;\n",
              "      fill: #D2E3FC;\n",
              "    }\n",
              "\n",
              "    [theme=dark] .colab-df-convert:hover {\n",
              "      background-color: #434B5C;\n",
              "      box-shadow: 0px 1px 3px 1px rgba(0, 0, 0, 0.15);\n",
              "      filter: drop-shadow(0px 1px 2px rgba(0, 0, 0, 0.3));\n",
              "      fill: #FFFFFF;\n",
              "    }\n",
              "  </style>\n",
              "\n",
              "    <script>\n",
              "      const buttonEl =\n",
              "        document.querySelector('#df-3c8f5c15-b2bc-43ba-b6e6-224e6e4f26d4 button.colab-df-convert');\n",
              "      buttonEl.style.display =\n",
              "        google.colab.kernel.accessAllowed ? 'block' : 'none';\n",
              "\n",
              "      async function convertToInteractive(key) {\n",
              "        const element = document.querySelector('#df-3c8f5c15-b2bc-43ba-b6e6-224e6e4f26d4');\n",
              "        const dataTable =\n",
              "          await google.colab.kernel.invokeFunction('convertToInteractive',\n",
              "                                                    [key], {});\n",
              "        if (!dataTable) return;\n",
              "\n",
              "        const docLinkHtml = 'Like what you see? Visit the ' +\n",
              "          '<a target=\"_blank\" href=https://colab.research.google.com/notebooks/data_table.ipynb>data table notebook</a>'\n",
              "          + ' to learn more about interactive tables.';\n",
              "        element.innerHTML = '';\n",
              "        dataTable['output_type'] = 'display_data';\n",
              "        await google.colab.output.renderOutput(dataTable, element);\n",
              "        const docLink = document.createElement('div');\n",
              "        docLink.innerHTML = docLinkHtml;\n",
              "        element.appendChild(docLink);\n",
              "      }\n",
              "    </script>\n",
              "  </div>\n",
              "\n",
              "\n",
              "<div id=\"df-6377dabe-2be9-4959-a52d-4df91a0d74e7\">\n",
              "  <button class=\"colab-df-quickchart\" onclick=\"quickchart('df-6377dabe-2be9-4959-a52d-4df91a0d74e7')\"\n",
              "            title=\"Suggest charts\"\n",
              "            style=\"display:none;\">\n",
              "\n",
              "<svg xmlns=\"http://www.w3.org/2000/svg\" height=\"24px\"viewBox=\"0 0 24 24\"\n",
              "     width=\"24px\">\n",
              "    <g>\n",
              "        <path d=\"M19 3H5c-1.1 0-2 .9-2 2v14c0 1.1.9 2 2 2h14c1.1 0 2-.9 2-2V5c0-1.1-.9-2-2-2zM9 17H7v-7h2v7zm4 0h-2V7h2v10zm4 0h-2v-4h2v4z\"/>\n",
              "    </g>\n",
              "</svg>\n",
              "  </button>\n",
              "\n",
              "<style>\n",
              "  .colab-df-quickchart {\n",
              "      --bg-color: #E8F0FE;\n",
              "      --fill-color: #1967D2;\n",
              "      --hover-bg-color: #E2EBFA;\n",
              "      --hover-fill-color: #174EA6;\n",
              "      --disabled-fill-color: #AAA;\n",
              "      --disabled-bg-color: #DDD;\n",
              "  }\n",
              "\n",
              "  [theme=dark] .colab-df-quickchart {\n",
              "      --bg-color: #3B4455;\n",
              "      --fill-color: #D2E3FC;\n",
              "      --hover-bg-color: #434B5C;\n",
              "      --hover-fill-color: #FFFFFF;\n",
              "      --disabled-bg-color: #3B4455;\n",
              "      --disabled-fill-color: #666;\n",
              "  }\n",
              "\n",
              "  .colab-df-quickchart {\n",
              "    background-color: var(--bg-color);\n",
              "    border: none;\n",
              "    border-radius: 50%;\n",
              "    cursor: pointer;\n",
              "    display: none;\n",
              "    fill: var(--fill-color);\n",
              "    height: 32px;\n",
              "    padding: 0;\n",
              "    width: 32px;\n",
              "  }\n",
              "\n",
              "  .colab-df-quickchart:hover {\n",
              "    background-color: var(--hover-bg-color);\n",
              "    box-shadow: 0 1px 2px rgba(60, 64, 67, 0.3), 0 1px 3px 1px rgba(60, 64, 67, 0.15);\n",
              "    fill: var(--button-hover-fill-color);\n",
              "  }\n",
              "\n",
              "  .colab-df-quickchart-complete:disabled,\n",
              "  .colab-df-quickchart-complete:disabled:hover {\n",
              "    background-color: var(--disabled-bg-color);\n",
              "    fill: var(--disabled-fill-color);\n",
              "    box-shadow: none;\n",
              "  }\n",
              "\n",
              "  .colab-df-spinner {\n",
              "    border: 2px solid var(--fill-color);\n",
              "    border-color: transparent;\n",
              "    border-bottom-color: var(--fill-color);\n",
              "    animation:\n",
              "      spin 1s steps(1) infinite;\n",
              "  }\n",
              "\n",
              "  @keyframes spin {\n",
              "    0% {\n",
              "      border-color: transparent;\n",
              "      border-bottom-color: var(--fill-color);\n",
              "      border-left-color: var(--fill-color);\n",
              "    }\n",
              "    20% {\n",
              "      border-color: transparent;\n",
              "      border-left-color: var(--fill-color);\n",
              "      border-top-color: var(--fill-color);\n",
              "    }\n",
              "    30% {\n",
              "      border-color: transparent;\n",
              "      border-left-color: var(--fill-color);\n",
              "      border-top-color: var(--fill-color);\n",
              "      border-right-color: var(--fill-color);\n",
              "    }\n",
              "    40% {\n",
              "      border-color: transparent;\n",
              "      border-right-color: var(--fill-color);\n",
              "      border-top-color: var(--fill-color);\n",
              "    }\n",
              "    60% {\n",
              "      border-color: transparent;\n",
              "      border-right-color: var(--fill-color);\n",
              "    }\n",
              "    80% {\n",
              "      border-color: transparent;\n",
              "      border-right-color: var(--fill-color);\n",
              "      border-bottom-color: var(--fill-color);\n",
              "    }\n",
              "    90% {\n",
              "      border-color: transparent;\n",
              "      border-bottom-color: var(--fill-color);\n",
              "    }\n",
              "  }\n",
              "</style>\n",
              "\n",
              "  <script>\n",
              "    async function quickchart(key) {\n",
              "      const quickchartButtonEl =\n",
              "        document.querySelector('#' + key + ' button');\n",
              "      quickchartButtonEl.disabled = true;  // To prevent multiple clicks.\n",
              "      quickchartButtonEl.classList.add('colab-df-spinner');\n",
              "      try {\n",
              "        const charts = await google.colab.kernel.invokeFunction(\n",
              "            'suggestCharts', [key], {});\n",
              "      } catch (error) {\n",
              "        console.error('Error during call to suggestCharts:', error);\n",
              "      }\n",
              "      quickchartButtonEl.classList.remove('colab-df-spinner');\n",
              "      quickchartButtonEl.classList.add('colab-df-quickchart-complete');\n",
              "    }\n",
              "    (() => {\n",
              "      let quickchartButtonEl =\n",
              "        document.querySelector('#df-6377dabe-2be9-4959-a52d-4df91a0d74e7 button');\n",
              "      quickchartButtonEl.style.display =\n",
              "        google.colab.kernel.accessAllowed ? 'block' : 'none';\n",
              "    })();\n",
              "  </script>\n",
              "</div>\n",
              "\n",
              "    </div>\n",
              "  </div>\n"
            ],
            "text/plain": [
              "   email_id   email_text email_version  hour    weekday user_country  \\\n",
              "0     85120  short_email  personalized     2     Sunday           US   \n",
              "1    966622   long_email  personalized    12     Sunday           UK   \n",
              "2    777221   long_email  personalized    11  Wednesday           US   \n",
              "3    493711  short_email       generic     6     Monday           UK   \n",
              "4    106887   long_email       generic    14     Monday           US   \n",
              "\n",
              "   user_past_purchases  opened  clicked  \n",
              "0                    5       0        0  \n",
              "1                    2       1        1  \n",
              "2                    2       0        0  \n",
              "3                    1       0        0  \n",
              "4                    6       0        0  "
            ]
          },
          "execution_count": 4,
          "metadata": {},
          "output_type": "execute_result"
        }
      ],
      "source": [
        "email_table.head()"
      ]
    },
    {
      "cell_type": "code",
      "execution_count": 5,
      "metadata": {
        "colab": {
          "base_uri": "https://localhost:8080/"
        },
        "id": "SuvJqyqOk15W",
        "outputId": "6a21cf18-8313-4b68-f317-c069fc545810"
      },
      "outputs": [
        {
          "name": "stdout",
          "output_type": "stream",
          "text": [
            "<class 'pandas.core.frame.DataFrame'>\n",
            "RangeIndex: 100000 entries, 0 to 99999\n",
            "Data columns (total 9 columns):\n",
            " #   Column               Non-Null Count   Dtype \n",
            "---  ------               --------------   ----- \n",
            " 0   email_id             100000 non-null  int64 \n",
            " 1   email_text           100000 non-null  object\n",
            " 2   email_version        100000 non-null  object\n",
            " 3   hour                 100000 non-null  int64 \n",
            " 4   weekday              100000 non-null  object\n",
            " 5   user_country         100000 non-null  object\n",
            " 6   user_past_purchases  100000 non-null  int64 \n",
            " 7   opened               100000 non-null  int64 \n",
            " 8   clicked              100000 non-null  int64 \n",
            "dtypes: int64(5), object(4)\n",
            "memory usage: 6.9+ MB\n"
          ]
        }
      ],
      "source": [
        "email_table.info()"
      ]
    },
    {
      "cell_type": "code",
      "execution_count": 6,
      "metadata": {
        "colab": {
          "base_uri": "https://localhost:8080/",
          "height": 366
        },
        "id": "CWU5Vhr8lSnA",
        "outputId": "438de95b-6bf3-4471-fdce-cd5aa427547a"
      },
      "outputs": [
        {
          "data": {
            "text/html": [
              "<div>\n",
              "<style scoped>\n",
              "    .dataframe tbody tr th:only-of-type {\n",
              "        vertical-align: middle;\n",
              "    }\n",
              "\n",
              "    .dataframe tbody tr th {\n",
              "        vertical-align: top;\n",
              "    }\n",
              "\n",
              "    .dataframe thead th {\n",
              "        text-align: right;\n",
              "    }\n",
              "</style>\n",
              "<table border=\"1\" class=\"dataframe\">\n",
              "  <thead>\n",
              "    <tr style=\"text-align: right;\">\n",
              "      <th></th>\n",
              "      <th>0</th>\n",
              "    </tr>\n",
              "  </thead>\n",
              "  <tbody>\n",
              "    <tr>\n",
              "      <th>email_id</th>\n",
              "      <td>0</td>\n",
              "    </tr>\n",
              "    <tr>\n",
              "      <th>email_text</th>\n",
              "      <td>0</td>\n",
              "    </tr>\n",
              "    <tr>\n",
              "      <th>email_version</th>\n",
              "      <td>0</td>\n",
              "    </tr>\n",
              "    <tr>\n",
              "      <th>hour</th>\n",
              "      <td>0</td>\n",
              "    </tr>\n",
              "    <tr>\n",
              "      <th>weekday</th>\n",
              "      <td>0</td>\n",
              "    </tr>\n",
              "    <tr>\n",
              "      <th>user_country</th>\n",
              "      <td>0</td>\n",
              "    </tr>\n",
              "    <tr>\n",
              "      <th>user_past_purchases</th>\n",
              "      <td>0</td>\n",
              "    </tr>\n",
              "    <tr>\n",
              "      <th>opened</th>\n",
              "      <td>0</td>\n",
              "    </tr>\n",
              "    <tr>\n",
              "      <th>clicked</th>\n",
              "      <td>0</td>\n",
              "    </tr>\n",
              "  </tbody>\n",
              "</table>\n",
              "</div><br><label><b>dtype:</b> int64</label>"
            ],
            "text/plain": [
              "email_id               0\n",
              "email_text             0\n",
              "email_version          0\n",
              "hour                   0\n",
              "weekday                0\n",
              "user_country           0\n",
              "user_past_purchases    0\n",
              "opened                 0\n",
              "clicked                0\n",
              "dtype: int64"
            ]
          },
          "execution_count": 6,
          "metadata": {},
          "output_type": "execute_result"
        }
      ],
      "source": [
        "email_table.isnull().sum()"
      ]
    },
    {
      "cell_type": "code",
      "execution_count": 7,
      "metadata": {
        "colab": {
          "base_uri": "https://localhost:8080/"
        },
        "id": "iyADepAjlTrs",
        "outputId": "6b682dda-504a-49b8-df73-e6bd988587eb"
      },
      "outputs": [
        {
          "data": {
            "text/plain": [
              "(100000, 9)"
            ]
          },
          "execution_count": 7,
          "metadata": {},
          "output_type": "execute_result"
        }
      ],
      "source": [
        "email_table.shape"
      ]
    },
    {
      "cell_type": "code",
      "execution_count": 8,
      "metadata": {
        "id": "HNOTq5TRlWh3"
      },
      "outputs": [],
      "source": [
        "total_emails = len(email_table)\n",
        "total_opened = email_table['opened'].sum()\n",
        "total_clicked = email_table['clicked'].sum()"
      ]
    },
    {
      "cell_type": "code",
      "execution_count": 9,
      "metadata": {
        "colab": {
          "base_uri": "https://localhost:8080/"
        },
        "id": "BvhVZ9FAlyRh",
        "outputId": "6f0694bb-c1f3-4aef-db82-22a71b3d4062"
      },
      "outputs": [
        {
          "name": "stdout",
          "output_type": "stream",
          "text": [
            "Total emails: 100000\n",
            "Total emails opened: 10345\n",
            "Total emails clicked: 2119\n"
          ]
        }
      ],
      "source": [
        "print(f\"Total emails: {total_emails}\")\n",
        "print(f\"Total emails opened: {total_opened}\")\n",
        "print(f\"Total emails clicked: {total_clicked}\")"
      ]
    },
    {
      "cell_type": "code",
      "execution_count": 10,
      "metadata": {
        "id": "IPflAGJGl3Z_"
      },
      "outputs": [],
      "source": [
        "open_rate = (total_opened / total_emails) * 100\n",
        "click_rate = (total_clicked / total_emails) * 100\n",
        "ctr = (total_clicked / total_opened) * 100 # click through rate for impressions"
      ]
    },
    {
      "cell_type": "code",
      "execution_count": 11,
      "metadata": {
        "colab": {
          "base_uri": "https://localhost:8080/"
        },
        "id": "uSMfXbgTmsYe",
        "outputId": "24c4e74b-b9b2-4bab-ac4d-a5142fec57bc"
      },
      "outputs": [
        {
          "name": "stdout",
          "output_type": "stream",
          "text": [
            "Open rate: 10.35%\n",
            "Click rate: 2.12%\n",
            "CTR: 20.48%\n"
          ]
        }
      ],
      "source": [
        "print(f\"Open rate: {open_rate:.2f}%\")\n",
        "print(f\"Click rate: {click_rate:.2f}%\")\n",
        "print(f\"CTR: {ctr:.2f}%\")"
      ]
    },
    {
      "cell_type": "code",
      "execution_count": 12,
      "metadata": {
        "colab": {
          "base_uri": "https://localhost:8080/"
        },
        "id": "qZFw13Dytqnq",
        "outputId": "7a82e281-b92f-4b5c-af9b-c211dbe97e98"
      },
      "outputs": [
        {
          "name": "stdout",
          "output_type": "stream",
          "text": [
            "Performance by Email Text Length:\n",
            "             opened  clicked\n",
            "email_text                  \n",
            "long_email     9.12     1.85\n",
            "short_email   11.59     2.39\n"
          ]
        }
      ],
      "source": [
        "text_analysis = email_table.groupby('email_text').agg({\n",
        "    'opened': 'mean',\n",
        "    'clicked': 'mean'\n",
        "}).round(4) * 100\n",
        "print(\"Performance by Email Text Length:\")\n",
        "print(text_analysis)"
      ]
    },
    {
      "cell_type": "code",
      "execution_count": 13,
      "metadata": {
        "colab": {
          "base_uri": "https://localhost:8080/"
        },
        "id": "rvinjKdgm0Vy",
        "outputId": "7959eba3-ed60-4857-ed52-5febf4b0853b"
      },
      "outputs": [
        {
          "name": "stdout",
          "output_type": "stream",
          "text": [
            "Performance by Email Version:\n",
            "               opened  clicked\n",
            "email_version                 \n",
            "generic          7.93     1.51\n",
            "personalized    12.78     2.73\n"
          ]
        }
      ],
      "source": [
        "version_analysis = email_table.groupby('email_version').agg({\n",
        "    'opened': 'mean',\n",
        "    'clicked': 'mean'\n",
        "}).round(4) * 100\n",
        "print(\"Performance by Email Version:\")\n",
        "print(version_analysis)"
      ]
    },
    {
      "cell_type": "code",
      "execution_count": 14,
      "metadata": {
        "colab": {
          "base_uri": "https://localhost:8080/"
        },
        "id": "WiEDW8FZt1tZ",
        "outputId": "722e1f02-c2f7-47fb-91c9-a61f65dbb55b"
      },
      "outputs": [
        {
          "name": "stdout",
          "output_type": "stream",
          "text": [
            "Performance by Hour:\n",
            "      opened  clicked\n",
            "hour                 \n",
            "1       8.84     1.81\n",
            "2       8.79     1.63\n",
            "3       8.46     1.95\n",
            "4       8.82     1.62\n",
            "5       8.21     1.80\n",
            "6       9.03     1.71\n",
            "7       9.01     1.83\n",
            "8       8.85     1.89\n",
            "9      12.57     2.58\n",
            "10     13.24     2.82\n",
            "11     12.66     2.71\n",
            "12     12.45     2.57\n",
            "13     10.91     1.99\n",
            "14     10.94     2.07\n",
            "15     10.54     2.49\n",
            "16     10.47     2.32\n",
            "17     10.94     1.85\n",
            "18      9.43     1.62\n",
            "19      7.51     1.66\n",
            "20      8.84     1.22\n",
            "21      5.75     0.82\n",
            "22      6.37     1.96\n",
            "23      8.28     4.14\n",
            "24     15.94     2.90\n"
          ]
        }
      ],
      "source": [
        "hour_analysis = email_table.groupby('hour').agg({\n",
        "    'opened': 'mean',\n",
        "    'clicked': 'mean'\n",
        "}).round(4) * 100\n",
        "print(\"Performance by Hour:\")\n",
        "print(hour_analysis)"
      ]
    },
    {
      "cell_type": "code",
      "execution_count": 15,
      "metadata": {
        "colab": {
          "base_uri": "https://localhost:8080/"
        },
        "id": "Z3szhOESnLOS",
        "outputId": "c696e9c2-f3de-4ddd-9ea4-9a52146b3810"
      },
      "outputs": [
        {
          "name": "stdout",
          "output_type": "stream",
          "text": [
            "Performance by Weekday:\n",
            "           opened  clicked\n",
            "weekday                   \n",
            "Friday       7.41     1.40\n",
            "Monday      11.61     2.29\n",
            "Saturday     8.77     1.78\n",
            "Sunday       8.76     1.68\n",
            "Thursday    11.84     2.44\n",
            "Tuesday     12.05     2.49\n",
            "Wednesday   12.03     2.76\n"
          ]
        }
      ],
      "source": [
        "weekday_analysis = email_table.groupby('weekday').agg({\n",
        "    'opened': 'mean',\n",
        "    'clicked': 'mean'\n",
        "}).round(4) * 100\n",
        "print(\"Performance by Weekday:\")\n",
        "print(weekday_analysis)"
      ]
    },
    {
      "cell_type": "code",
      "execution_count": 16,
      "metadata": {
        "colab": {
          "base_uri": "https://localhost:8080/"
        },
        "id": "f06gOMfjt55k",
        "outputId": "80b213dc-75f5-45fb-d7a3-5c53e3aebe4f"
      },
      "outputs": [
        {
          "name": "stdout",
          "output_type": "stream",
          "text": [
            "Top Countries by Click Rate:\n",
            "              opened  clicked    count\n",
            "user_country                          \n",
            "UK             12.02     2.47  1993900\n",
            "US             11.90     2.44  6009900\n",
            "ES              3.91     0.83   996700\n",
            "FR              4.06     0.80   999500\n"
          ]
        }
      ],
      "source": [
        "country_analysis = email_table.groupby('user_country').agg({\n",
        "    'opened': 'mean',\n",
        "    'clicked': 'mean',\n",
        "    'email_id': 'count'\n",
        "}).round(4) * 100\n",
        "country_analysis = country_analysis.rename(columns={'email_id': 'count'})\n",
        "print(\"Top Countries by Click Rate:\")\n",
        "print(country_analysis.sort_values('clicked', ascending=False).head())"
      ]
    },
    {
      "cell_type": "code",
      "execution_count": 17,
      "metadata": {
        "colab": {
          "base_uri": "https://localhost:8080/"
        },
        "id": "rUNpdBbKvaNX",
        "outputId": "ad69524b-a502-4519-d586-fa1d128926e3"
      },
      "outputs": [
        {
          "name": "stdout",
          "output_type": "stream",
          "text": [
            "\n",
            "Performance by Past Purchases:\n",
            "                     opened  clicked    count\n",
            "user_past_purchases                          \n",
            "0                      3.83     0.05  1387700\n",
            "1                      9.28     1.12  1375100\n",
            "2                     10.13     1.53  1303600\n",
            "3                     10.81     1.66  1207700\n",
            "4                     11.12     2.14  1074300\n",
            "5                     11.63     2.22   904200\n",
            "6                     12.34     3.21   751800\n",
            "7                     12.30     3.07   605100\n",
            "8                     13.95     3.96   439300\n",
            "9                     13.47     4.55   329600\n",
            "10                    13.92     4.66   236300\n",
            "11                    15.07     5.60   155300\n",
            "12                    14.19     6.57    94400\n",
            "13                    14.01     6.57    57800\n",
            "14                    19.61     9.12    36200\n",
            "15                    19.68    11.70    18800\n",
            "16                    21.57    11.76    10200\n",
            "17                    18.33     8.33     6000\n",
            "18                    20.00     2.86     3500\n",
            "19                    20.00    20.00     1500\n",
            "20                    36.36     0.00     1100\n",
            "21                    50.00    50.00      400\n",
            "22                   100.00   100.00      100\n"
          ]
        }
      ],
      "source": [
        "purchases_analysis = email_table.groupby('user_past_purchases').agg({\n",
        "    'opened': 'mean',\n",
        "    'clicked': 'mean',\n",
        "    'email_id': 'count'\n",
        "}).round(4) * 100\n",
        "purchases_analysis = purchases_analysis.rename(columns={'email_id': 'count'})\n",
        "print(\"\\nPerformance by Past Purchases:\")\n",
        "print(purchases_analysis)"
      ]
    },
    {
      "cell_type": "code",
      "execution_count": 18,
      "metadata": {
        "colab": {
          "base_uri": "https://localhost:8080/",
          "height": 475
        },
        "id": "bt10t6diVxTj",
        "outputId": "566cc69f-dd65-4306-a9fa-d165debba17e"
      },
      "outputs": [
        {
          "data": {
            "image/png": "[encoded data removed]",
            "text/plain": [
              "<Figure size 1500x1000 with 2 Axes>"
            ]
          },
          "metadata": {},
          "output_type": "display_data"
        }
      ],
      "source": [
        "plt.figure(figsize=(15, 10))\n",
        "\n",
        "plt.subplot(2, 2, 1)\n",
        "hour_analysis['clicked'].plot(kind='line')\n",
        "plt.title('Click Rate by Hour')\n",
        "plt.xlabel('Hour')\n",
        "plt.ylabel('Click Rate (%)')\n",
        "\n",
        "plt.subplot(2, 2, 2)\n",
        "purchases_analysis['clicked'].plot(kind='bar')\n",
        "plt.title('Click Rate by Past Purchases')\n",
        "plt.xlabel('Number of Past Purchases')\n",
        "plt.ylabel('Click Rate (%)')\n",
        "\n",
        "plt.tight_layout()\n",
        "plt.show()\n",
        "plt.close()"
      ]
    },
    {
      "cell_type": "code",
      "execution_count": 19,
      "metadata": {
        "id": "OHGCozOi8r79"
      },
      "outputs": [],
      "source": [
        "le = LabelEncoder()\n",
        "email_table['email_version_encoded'] = le.fit_transform(email_table['email_version'])\n",
        "email_table['email_text_encoded'] = le.fit_transform(email_table['email_text'])\n",
        "email_table['weekday_encoded'] = le.fit_transform(email_table['weekday'])\n",
        "email_table['user_country_encoded'] = le.fit_transform(email_table['user_country'])"
      ]
    },
    {
      "cell_type": "code",
      "execution_count": 20,
      "metadata": {
        "colab": {
          "base_uri": "https://localhost:8080/",
          "height": 226
        },
        "id": "wPckdbOtM1Tb",
        "outputId": "6465b229-041e-4c0e-f690-477bccd71dff"
      },
      "outputs": [
        {
          "data": {
            "application/vnd.google.colaboratory.intrinsic+json": {
              "summary": "{\n  \"name\": \"email_table\",\n  \"rows\": 100000,\n  \"fields\": [\n    {\n      \"column\": \"email_id\",\n      \"properties\": {\n        \"dtype\": \"number\",\n        \"std\": 289230,\n        \"min\": 8,\n        \"max\": 999998,\n        \"num_unique_values\": 100000,\n        \"samples\": [\n          416549,\n          248222,\n          242229\n        ],\n        \"semantic_type\": \"\",\n        \"description\": \"\"\n      }\n    },\n    {\n      \"column\": \"email_text\",\n      \"properties\": {\n        \"dtype\": \"category\",\n        \"num_unique_values\": 2,\n        \"samples\": [\n          \"long_email\",\n          \"short_email\"\n        ],\n        \"semantic_type\": \"\",\n        \"description\": \"\"\n      }\n    },\n    {\n      \"column\": \"email_version\",\n      \"properties\": {\n        \"dtype\": \"category\",\n        \"num_unique_values\": 2,\n        \"samples\": [\n          \"generic\",\n          \"personalized\"\n        ],\n        \"semantic_type\": \"\",\n        \"description\": \"\"\n      }\n    },\n    {\n      \"column\": \"hour\",\n      \"properties\": {\n        \"dtype\": \"number\",\n        \"std\": 4,\n        \"min\": 1,\n        \"max\": 24,\n        \"num_unique_values\": 24,\n        \"samples\": [\n          23,\n          17\n        ],\n        \"semantic_type\": \"\",\n        \"description\": \"\"\n      }\n    },\n    {\n      \"column\": \"weekday\",\n      \"properties\": {\n        \"dtype\": \"category\",\n        \"num_unique_values\": 7,\n        \"samples\": [\n          \"Sunday\",\n          \"Wednesday\"\n        ],\n        \"semantic_type\": \"\",\n        \"description\": \"\"\n      }\n    },\n    {\n      \"column\": \"user_country\",\n      \"properties\": {\n        \"dtype\": \"category\",\n        \"num_unique_values\": 4,\n        \"samples\": [\n          \"UK\",\n          \"ES\"\n        ],\n        \"semantic_type\": \"\",\n        \"description\": \"\"\n      }\n    },\n    {\n      \"column\": \"user_past_purchases\",\n      \"properties\": {\n        \"dtype\": \"number\",\n        \"std\": 3,\n        \"min\": 0,\n        \"max\": 22,\n        \"num_unique_values\": 23,\n        \"samples\": [\n          14,\n          11\n        ],\n        \"semantic_type\": \"\",\n        \"description\": \"\"\n      }\n    },\n    {\n      \"column\": \"opened\",\n      \"properties\": {\n        \"dtype\": \"number\",\n        \"std\": 0,\n        \"min\": 0,\n        \"max\": 1,\n        \"num_unique_values\": 2,\n        \"samples\": [\n          1,\n          0\n        ],\n        \"semantic_type\": \"\",\n        \"description\": \"\"\n      }\n    },\n    {\n      \"column\": \"clicked\",\n      \"properties\": {\n        \"dtype\": \"number\",\n        \"std\": 0,\n        \"min\": 0,\n        \"max\": 1,\n        \"num_unique_values\": 2,\n        \"samples\": [\n          1,\n          0\n        ],\n        \"semantic_type\": \"\",\n        \"description\": \"\"\n      }\n    },\n    {\n      \"column\": \"email_version_encoded\",\n      \"properties\": {\n        \"dtype\": \"number\",\n        \"std\": 0,\n        \"min\": 0,\n        \"max\": 1,\n        \"num_unique_values\": 2,\n        \"samples\": [\n          0,\n          1\n        ],\n        \"semantic_type\": \"\",\n        \"description\": \"\"\n      }\n    },\n    {\n      \"column\": \"email_text_encoded\",\n      \"properties\": {\n        \"dtype\": \"number\",\n        \"std\": 0,\n        \"min\": 0,\n        \"max\": 1,\n        \"num_unique_values\": 2,\n        \"samples\": [\n          0,\n          1\n        ],\n        \"semantic_type\": \"\",\n        \"description\": \"\"\n      }\n    },\n    {\n      \"column\": \"weekday_encoded\",\n      \"properties\": {\n        \"dtype\": \"number\",\n        \"std\": 1,\n        \"min\": 0,\n        \"max\": 6,\n        \"num_unique_values\": 7,\n        \"samples\": [\n          3,\n          6\n        ],\n        \"semantic_type\": \"\",\n        \"description\": \"\"\n      }\n    },\n    {\n      \"column\": \"user_country_encoded\",\n      \"properties\": {\n        \"dtype\": \"number\",\n        \"std\": 1,\n        \"min\": 0,\n        \"max\": 3,\n        \"num_unique_values\": 4,\n        \"samples\": [\n          2,\n          0\n        ],\n        \"semantic_type\": \"\",\n        \"description\": \"\"\n      }\n    }\n  ]\n}",
              "type": "dataframe",
              "variable_name": "email_table"
            },
            "text/html": [
              "\n",
              "  <div id=\"df-191bb812-05a9-4d6b-b20a-50263a5586d4\" class=\"colab-df-container\">\n",
              "    <div>\n",
              "<style scoped>\n",
              "    .dataframe tbody tr th:only-of-type {\n",
              "        vertical-align: middle;\n",
              "    }\n",
              "\n",
              "    .dataframe tbody tr th {\n",
              "        vertical-align: top;\n",
              "    }\n",
              "\n",
              "    .dataframe thead th {\n",
              "        text-align: right;\n",
              "    }\n",
              "</style>\n",
              "<table border=\"1\" class=\"dataframe\">\n",
              "  <thead>\n",
              "    <tr style=\"text-align: right;\">\n",
              "      <th></th>\n",
              "      <th>email_id</th>\n",
              "      <th>email_text</th>\n",
              "      <th>email_version</th>\n",
              "      <th>hour</th>\n",
              "      <th>weekday</th>\n",
              "      <th>user_country</th>\n",
              "      <th>user_past_purchases</th>\n",
              "      <th>opened</th>\n",
              "      <th>clicked</th>\n",
              "      <th>email_version_encoded</th>\n",
              "      <th>email_text_encoded</th>\n",
              "      <th>weekday_encoded</th>\n",
              "      <th>user_country_encoded</th>\n",
              "    </tr>\n",
              "  </thead>\n",
              "  <tbody>\n",
              "    <tr>\n",
              "      <th>0</th>\n",
              "      <td>85120</td>\n",
              "      <td>short_email</td>\n",
              "      <td>personalized</td>\n",
              "      <td>2</td>\n",
              "      <td>Sunday</td>\n",
              "      <td>US</td>\n",
              "      <td>5</td>\n",
              "      <td>0</td>\n",
              "      <td>0</td>\n",
              "      <td>1</td>\n",
              "      <td>1</td>\n",
              "      <td>3</td>\n",
              "      <td>3</td>\n",
              "    </tr>\n",
              "    <tr>\n",
              "      <th>1</th>\n",
              "      <td>966622</td>\n",
              "      <td>long_email</td>\n",
              "      <td>personalized</td>\n",
              "      <td>12</td>\n",
              "      <td>Sunday</td>\n",
              "      <td>UK</td>\n",
              "      <td>2</td>\n",
              "      <td>1</td>\n",
              "      <td>1</td>\n",
              "      <td>1</td>\n",
              "      <td>0</td>\n",
              "      <td>3</td>\n",
              "      <td>2</td>\n",
              "    </tr>\n",
              "    <tr>\n",
              "      <th>2</th>\n",
              "      <td>777221</td>\n",
              "      <td>long_email</td>\n",
              "      <td>personalized</td>\n",
              "      <td>11</td>\n",
              "      <td>Wednesday</td>\n",
              "      <td>US</td>\n",
              "      <td>2</td>\n",
              "      <td>0</td>\n",
              "      <td>0</td>\n",
              "      <td>1</td>\n",
              "      <td>0</td>\n",
              "      <td>6</td>\n",
              "      <td>3</td>\n",
              "    </tr>\n",
              "    <tr>\n",
              "      <th>3</th>\n",
              "      <td>493711</td>\n",
              "      <td>short_email</td>\n",
              "      <td>generic</td>\n",
              "      <td>6</td>\n",
              "      <td>Monday</td>\n",
              "      <td>UK</td>\n",
              "      <td>1</td>\n",
              "      <td>0</td>\n",
              "      <td>0</td>\n",
              "      <td>0</td>\n",
              "      <td>1</td>\n",
              "      <td>1</td>\n",
              "      <td>2</td>\n",
              "    </tr>\n",
              "    <tr>\n",
              "      <th>4</th>\n",
              "      <td>106887</td>\n",
              "      <td>long_email</td>\n",
              "      <td>generic</td>\n",
              "      <td>14</td>\n",
              "      <td>Monday</td>\n",
              "      <td>US</td>\n",
              "      <td>6</td>\n",
              "      <td>0</td>\n",
              "      <td>0</td>\n",
              "      <td>0</td>\n",
              "      <td>0</td>\n",
              "      <td>1</td>\n",
              "      <td>3</td>\n",
              "    </tr>\n",
              "  </tbody>\n",
              "</table>\n",
              "</div>\n",
              "    <div class=\"colab-df-buttons\">\n",
              "\n",
              "  <div class=\"colab-df-container\">\n",
              "    <button class=\"colab-df-convert\" onclick=\"convertToInteractive('df-191bb812-05a9-4d6b-b20a-50263a5586d4')\"\n",
              "            title=\"Convert this dataframe to an interactive table.\"\n",
              "            style=\"display:none;\">\n",
              "\n",
              "  <svg xmlns=\"http://www.w3.org/2000/svg\" height=\"24px\" viewBox=\"0 -960 960 960\">\n",
              "    <path d=\"M120-120v-720h720v720H120Zm60-500h600v-160H180v160Zm220 220h160v-160H400v160Zm0 220h160v-160H400v160ZM180-400h160v-160H180v160Zm440 0h160v-160H620v160ZM180-180h160v-160H180v160Zm440 0h160v-160H620v160Z\"/>\n",
              "  </svg>\n",
              "    </button>\n",
              "\n",
              "  <style>\n",
              "    .colab-df-container {\n",
              "      display:flex;\n",
              "      gap: 12px;\n",
              "    }\n",
              "\n",
              "    .colab-df-convert {\n",
              "      background-color: #E8F0FE;\n",
              "      border: none;\n",
              "      border-radius: 50%;\n",
              "      cursor: pointer;\n",
              "      display: none;\n",
              "      fill: #1967D2;\n",
              "      height: 32px;\n",
              "      padding: 0 0 0 0;\n",
              "      width: 32px;\n",
              "    }\n",
              "\n",
              "    .colab-df-convert:hover {\n",
              "      background-color: #E2EBFA;\n",
              "      box-shadow: 0px 1px 2px rgba(60, 64, 67, 0.3), 0px 1px 3px 1px rgba(60, 64, 67, 0.15);\n",
              "      fill: #174EA6;\n",
              "    }\n",
              "\n",
              "    .colab-df-buttons div {\n",
              "      margin-bottom: 4px;\n",
              "    }\n",
              "\n",
              "    [theme=dark] .colab-df-convert {\n",
              "      background-color: #3B4455;\n",
              "      fill: #D2E3FC;\n",
              "    }\n",
              "\n",
              "    [theme=dark] .colab-df-convert:hover {\n",
              "      background-color: #434B5C;\n",
              "      box-shadow: 0px 1px 3px 1px rgba(0, 0, 0, 0.15);\n",
              "      filter: drop-shadow(0px 1px 2px rgba(0, 0, 0, 0.3));\n",
              "      fill: #FFFFFF;\n",
              "    }\n",
              "  </style>\n",
              "\n",
              "    <script>\n",
              "      const buttonEl =\n",
              "        document.querySelector('#df-191bb812-05a9-4d6b-b20a-50263a5586d4 button.colab-df-convert');\n",
              "      buttonEl.style.display =\n",
              "        google.colab.kernel.accessAllowed ? 'block' : 'none';\n",
              "\n",
              "      async function convertToInteractive(key) {\n",
              "        const element = document.querySelector('#df-191bb812-05a9-4d6b-b20a-50263a5586d4');\n",
              "        const dataTable =\n",
              "          await google.colab.kernel.invokeFunction('convertToInteractive',\n",
              "                                                    [key], {});\n",
              "        if (!dataTable) return;\n",
              "\n",
              "        const docLinkHtml = 'Like what you see? Visit the ' +\n",
              "          '<a target=\"_blank\" href=https://colab.research.google.com/notebooks/data_table.ipynb>data table notebook</a>'\n",
              "          + ' to learn more about interactive tables.';\n",
              "        element.innerHTML = '';\n",
              "        dataTable['output_type'] = 'display_data';\n",
              "        await google.colab.output.renderOutput(dataTable, element);\n",
              "        const docLink = document.createElement('div');\n",
              "        docLink.innerHTML = docLinkHtml;\n",
              "        element.appendChild(docLink);\n",
              "      }\n",
              "    </script>\n",
              "  </div>\n",
              "\n",
              "\n",
              "<div id=\"df-8e17b0cf-dbb3-43e4-811f-c6d04fa3892b\">\n",
              "  <button class=\"colab-df-quickchart\" onclick=\"quickchart('df-8e17b0cf-dbb3-43e4-811f-c6d04fa3892b')\"\n",
              "            title=\"Suggest charts\"\n",
              "            style=\"display:none;\">\n",
              "\n",
              "<svg xmlns=\"http://www.w3.org/2000/svg\" height=\"24px\"viewBox=\"0 0 24 24\"\n",
              "     width=\"24px\">\n",
              "    <g>\n",
              "        <path d=\"M19 3H5c-1.1 0-2 .9-2 2v14c0 1.1.9 2 2 2h14c1.1 0 2-.9 2-2V5c0-1.1-.9-2-2-2zM9 17H7v-7h2v7zm4 0h-2V7h2v10zm4 0h-2v-4h2v4z\"/>\n",
              "    </g>\n",
              "</svg>\n",
              "  </button>\n",
              "\n",
              "<style>\n",
              "  .colab-df-quickchart {\n",
              "      --bg-color: #E8F0FE;\n",
              "      --fill-color: #1967D2;\n",
              "      --hover-bg-color: #E2EBFA;\n",
              "      --hover-fill-color: #174EA6;\n",
              "      --disabled-fill-color: #AAA;\n",
              "      --disabled-bg-color: #DDD;\n",
              "  }\n",
              "\n",
              "  [theme=dark] .colab-df-quickchart {\n",
              "      --bg-color: #3B4455;\n",
              "      --fill-color: #D2E3FC;\n",
              "      --hover-bg-color: #434B5C;\n",
              "      --hover-fill-color: #FFFFFF;\n",
              "      --disabled-bg-color: #3B4455;\n",
              "      --disabled-fill-color: #666;\n",
              "  }\n",
              "\n",
              "  .colab-df-quickchart {\n",
              "    background-color: var(--bg-color);\n",
              "    border: none;\n",
              "    border-radius: 50%;\n",
              "    cursor: pointer;\n",
              "    display: none;\n",
              "    fill: var(--fill-color);\n",
              "    height: 32px;\n",
              "    padding: 0;\n",
              "    width: 32px;\n",
              "  }\n",
              "\n",
              "  .colab-df-quickchart:hover {\n",
              "    background-color: var(--hover-bg-color);\n",
              "    box-shadow: 0 1px 2px rgba(60, 64, 67, 0.3), 0 1px 3px 1px rgba(60, 64, 67, 0.15);\n",
              "    fill: var(--button-hover-fill-color);\n",
              "  }\n",
              "\n",
              "  .colab-df-quickchart-complete:disabled,\n",
              "  .colab-df-quickchart-complete:disabled:hover {\n",
              "    background-color: var(--disabled-bg-color);\n",
              "    fill: var(--disabled-fill-color);\n",
              "    box-shadow: none;\n",
              "  }\n",
              "\n",
              "  .colab-df-spinner {\n",
              "    border: 2px solid var(--fill-color);\n",
              "    border-color: transparent;\n",
              "    border-bottom-color: var(--fill-color);\n",
              "    animation:\n",
              "      spin 1s steps(1) infinite;\n",
              "  }\n",
              "\n",
              "  @keyframes spin {\n",
              "    0% {\n",
              "      border-color: transparent;\n",
              "      border-bottom-color: var(--fill-color);\n",
              "      border-left-color: var(--fill-color);\n",
              "    }\n",
              "    20% {\n",
              "      border-color: transparent;\n",
              "      border-left-color: var(--fill-color);\n",
              "      border-top-color: var(--fill-color);\n",
              "    }\n",
              "    30% {\n",
              "      border-color: transparent;\n",
              "      border-left-color: var(--fill-color);\n",
              "      border-top-color: var(--fill-color);\n",
              "      border-right-color: var(--fill-color);\n",
              "    }\n",
              "    40% {\n",
              "      border-color: transparent;\n",
              "      border-right-color: var(--fill-color);\n",
              "      border-top-color: var(--fill-color);\n",
              "    }\n",
              "    60% {\n",
              "      border-color: transparent;\n",
              "      border-right-color: var(--fill-color);\n",
              "    }\n",
              "    80% {\n",
              "      border-color: transparent;\n",
              "      border-right-color: var(--fill-color);\n",
              "      border-bottom-color: var(--fill-color);\n",
              "    }\n",
              "    90% {\n",
              "      border-color: transparent;\n",
              "      border-bottom-color: var(--fill-color);\n",
              "    }\n",
              "  }\n",
              "</style>\n",
              "\n",
              "  <script>\n",
              "    async function quickchart(key) {\n",
              "      const quickchartButtonEl =\n",
              "        document.querySelector('#' + key + ' button');\n",
              "      quickchartButtonEl.disabled = true;  // To prevent multiple clicks.\n",
              "      quickchartButtonEl.classList.add('colab-df-spinner');\n",
              "      try {\n",
              "        const charts = await google.colab.kernel.invokeFunction(\n",
              "            'suggestCharts', [key], {});\n",
              "      } catch (error) {\n",
              "        console.error('Error during call to suggestCharts:', error);\n",
              "      }\n",
              "      quickchartButtonEl.classList.remove('colab-df-spinner');\n",
              "      quickchartButtonEl.classList.add('colab-df-quickchart-complete');\n",
              "    }\n",
              "    (() => {\n",
              "      let quickchartButtonEl =\n",
              "        document.querySelector('#df-8e17b0cf-dbb3-43e4-811f-c6d04fa3892b button');\n",
              "      quickchartButtonEl.style.display =\n",
              "        google.colab.kernel.accessAllowed ? 'block' : 'none';\n",
              "    })();\n",
              "  </script>\n",
              "</div>\n",
              "\n",
              "    </div>\n",
              "  </div>\n"
            ],
            "text/plain": [
              "   email_id   email_text email_version  hour    weekday user_country  \\\n",
              "0     85120  short_email  personalized     2     Sunday           US   \n",
              "1    966622   long_email  personalized    12     Sunday           UK   \n",
              "2    777221   long_email  personalized    11  Wednesday           US   \n",
              "3    493711  short_email       generic     6     Monday           UK   \n",
              "4    106887   long_email       generic    14     Monday           US   \n",
              "\n",
              "   user_past_purchases  opened  clicked  email_version_encoded  \\\n",
              "0                    5       0        0                      1   \n",
              "1                    2       1        1                      1   \n",
              "2                    2       0        0                      1   \n",
              "3                    1       0        0                      0   \n",
              "4                    6       0        0                      0   \n",
              "\n",
              "   email_text_encoded  weekday_encoded  user_country_encoded  \n",
              "0                   1                3                     3  \n",
              "1                   0                3                     2  \n",
              "2                   0                6                     3  \n",
              "3                   1                1                     2  \n",
              "4                   0                1                     3  "
            ]
          },
          "execution_count": 20,
          "metadata": {},
          "output_type": "execute_result"
        }
      ],
      "source": [
        "email_table.head()"
      ]
    },
    {
      "cell_type": "code",
      "execution_count": 21,
      "metadata": {
        "id": "J2HRXSDT_jAK"
      },
      "outputs": [],
      "source": [
        "features = ['email_version_encoded', 'email_text_encoded', 'hour',\n",
        "           'weekday_encoded', 'user_country_encoded', 'user_past_purchases']\n",
        "X = email_table[features]\n",
        "y = email_table['clicked']"
      ]
    },
    {
      "cell_type": "code",
      "execution_count": 22,
      "metadata": {
        "id": "QRsYiRqv_kwE"
      },
      "outputs": [],
      "source": [
        "X_train, X_test, y_train, y_test = train_test_split(X, y, test_size=0.2, random_state=42)"
      ]
    },
    {
      "cell_type": "code",
      "execution_count": 23,
      "metadata": {
        "colab": {
          "base_uri": "https://localhost:8080/"
        },
        "id": "CvejPVh-_uZV",
        "outputId": "87fc4c8f-baff-4067-c51e-db1e3e48e88d"
      },
      "outputs": [
        {
          "name": "stdout",
          "output_type": "stream",
          "text": [
            "(80000, 6)\n",
            "(20000, 6)\n",
            "(80000,)\n",
            "(20000,)\n"
          ]
        }
      ],
      "source": [
        "print(X_train.shape)\n",
        "print(X_test.shape)\n",
        "print(y_train.shape)\n",
        "print(y_test.shape)"
      ]
    },
    {
      "cell_type": "code",
      "execution_count": 24,
      "metadata": {
        "id": "CgcB1V6T_mEM"
      },
      "outputs": [],
      "source": [
        "from sklearn.preprocessing import StandardScaler\n",
        "from sklearn.linear_model import LogisticRegression\n",
        "from sklearn.ensemble import RandomForestClassifier\n",
        "from sklearn.svm import SVC\n",
        "import sklearn.metrics as mt\n",
        "from sklearn.tree import DecisionTreeClassifier\n",
        "from sklearn.ensemble import GradientBoostingClassifier\n",
        "from sklearn.neighbors import KNeighborsClassifier\n",
        "from xgboost import XGBClassifier"
      ]
    },
    {
      "cell_type": "code",
      "execution_count": 25,
      "metadata": {
        "id": "B5z6Pc7M_rWO"
      },
      "outputs": [],
      "source": [
        "models = [LogisticRegression(), DecisionTreeClassifier(), RandomForestClassifier(), GradientBoostingClassifier(), KNeighborsClassifier(), XGBClassifier(), SVC()]\n"
      ]
    },
    {
      "cell_type": "code",
      "execution_count": 26,
      "metadata": {
        "colab": {
          "base_uri": "https://localhost:8080/"
        },
        "id": "WXSrUMTbFFY3",
        "outputId": "13cc8d25-897c-432f-df2c-354fbb7200e0"
      },
      "outputs": [
        {
          "name": "stdout",
          "output_type": "stream",
          "text": [
            "LogisticRegression:\n",
            "Accuracy: 0.97735\n",
            "Precision: 0.9552130225000001\n",
            "Recall: 0.97735\n",
            "F1-score: 0.966154724757883\n",
            "Score: 0.97735\n",
            "\n",
            "Best model updated: LogisticRegression()\n",
            "DecisionTreeClassifier:\n",
            "Accuracy: 0.97235\n",
            "Precision: 0.9563658300196536\n",
            "Recall: 0.97235\n",
            "F1-score: 0.9640475508366404\n",
            "Score: 0.97235\n",
            "\n",
            "Best model updated: LogisticRegression()\n"
          ]
        },
        {
          "name": "stderr",
          "output_type": "stream",
          "text": [
            "/usr/local/lib/python3.11/dist-packages/sklearn/metrics/_classification.py:1565: UndefinedMetricWarning: Precision is ill-defined and being set to 0.0 in labels with no predicted samples. Use `zero_division` parameter to control this behavior.\n",
            "  _warn_prf(average, modifier, f\"{metric.capitalize()} is\", len(result))\n"
          ]
        },
        {
          "name": "stdout",
          "output_type": "stream",
          "text": [
            "RandomForestClassifier:\n",
            "Accuracy: 0.97435\n",
            "Precision: 0.9566659898065185\n",
            "Recall: 0.97435\n",
            "F1-score: 0.96499786236362\n",
            "Score: 0.97435\n",
            "\n",
            "Best model updated: LogisticRegression()\n",
            "GradientBoostingClassifier:\n",
            "Accuracy: 0.97735\n",
            "Precision: 0.9552130225000001\n",
            "Recall: 0.97735\n",
            "F1-score: 0.966154724757883\n",
            "Score: 0.97735\n",
            "\n",
            "Best model updated: LogisticRegression()\n"
          ]
        },
        {
          "name": "stderr",
          "output_type": "stream",
          "text": [
            "/usr/local/lib/python3.11/dist-packages/sklearn/metrics/_classification.py:1565: UndefinedMetricWarning: Precision is ill-defined and being set to 0.0 in labels with no predicted samples. Use `zero_division` parameter to control this behavior.\n",
            "  _warn_prf(average, modifier, f\"{metric.capitalize()} is\", len(result))\n"
          ]
        },
        {
          "name": "stdout",
          "output_type": "stream",
          "text": [
            "KNeighborsClassifier:\n",
            "Accuracy: 0.9772\n",
            "Precision: 0.9597863665916478\n",
            "Recall: 0.9772\n",
            "F1-score: 0.9661780671659939\n",
            "Score: 0.9772\n",
            "\n",
            "Best model updated: LogisticRegression()\n",
            "XGBClassifier:\n",
            "Accuracy: 0.977\n",
            "Precision: 0.9552052718451458\n",
            "Recall: 0.977\n",
            "F1-score: 0.9659797167425394\n",
            "Score: 0.977\n",
            "\n",
            "Best model updated: LogisticRegression()\n",
            "SVC:\n",
            "Accuracy: 0.97735\n",
            "Precision: 0.9552130225000001\n",
            "Recall: 0.97735\n",
            "F1-score: 0.966154724757883\n",
            "Score: 0.97735\n",
            "\n",
            "Best model updated: LogisticRegression()\n"
          ]
        },
        {
          "name": "stderr",
          "output_type": "stream",
          "text": [
            "/usr/local/lib/python3.11/dist-packages/sklearn/metrics/_classification.py:1565: UndefinedMetricWarning: Precision is ill-defined and being set to 0.0 in labels with no predicted samples. Use `zero_division` parameter to control this behavior.\n",
            "  _warn_prf(average, modifier, f\"{metric.capitalize()} is\", len(result))\n"
          ]
        }
      ],
      "source": [
        "best_score = 0\n",
        "best_model = None\n",
        "for model in models:\n",
        "    model.fit(X_train, y_train)\n",
        "    y_pred = model.predict(X_test)\n",
        "    score = model.score(X_test, y_test)\n",
        "    print(f\"{model.__class__.__name__}:\")\n",
        "    print(\"Accuracy:\", mt.accuracy_score(y_test, y_pred))\n",
        "    print(\"Precision:\", mt.precision_score(y_test, y_pred, average='weighted'))\n",
        "    print(\"Recall:\", mt.recall_score(y_test, y_pred, average='weighted'))\n",
        "    print(\"F1-score:\", mt.f1_score(y_test, y_pred, average='weighted'))\n",
        "    print(\"Score:\", score)\n",
        "    print()\n",
        "    if score > best_score:\n",
        "        best_score = score\n",
        "        best_model = model\n",
        "    print(\"Best model updated:\", best_model)"
      ]
    },
    {
      "cell_type": "code",
      "execution_count": 27,
      "metadata": {
        "colab": {
          "base_uri": "https://localhost:8080/"
        },
        "id": "fne6hcV-FIg1",
        "outputId": "91c3b390-1d6f-47e5-e8b8-45e93631c843"
      },
      "outputs": [
        {
          "name": "stdout",
          "output_type": "stream",
          "text": [
            "Best Model: LogisticRegression , Best Score: 0.97735\n"
          ]
        }
      ],
      "source": [
        "print(\"Best Model:\", best_model.__class__.__name__, \", Best Score:\", best_score)"
      ]
    },
    {
      "cell_type": "code",
      "execution_count": 28,
      "metadata": {
        "colab": {
          "base_uri": "https://localhost:8080/"
        },
        "id": "-ec54p_sFIkF",
        "outputId": "ebdfd007-7edb-4f78-f429-8dcf9ac0fe72"
      },
      "outputs": [
        {
          "name": "stdout",
          "output_type": "stream",
          "text": [
            "              precision    recall  f1-score   support\n",
            "\n",
            "           0       0.98      1.00      0.99     19547\n",
            "           1       0.00      0.00      0.00       453\n",
            "\n",
            "    accuracy                           0.98     20000\n",
            "   macro avg       0.49      0.50      0.49     20000\n",
            "weighted avg       0.96      0.98      0.97     20000\n",
            "\n"
          ]
        },
        {
          "name": "stderr",
          "output_type": "stream",
          "text": [
            "/usr/local/lib/python3.11/dist-packages/sklearn/metrics/_classification.py:1565: UndefinedMetricWarning: Precision is ill-defined and being set to 0.0 in labels with no predicted samples. Use `zero_division` parameter to control this behavior.\n",
            "  _warn_prf(average, modifier, f\"{metric.capitalize()} is\", len(result))\n",
            "/usr/local/lib/python3.11/dist-packages/sklearn/metrics/_classification.py:1565: UndefinedMetricWarning: Precision is ill-defined and being set to 0.0 in labels with no predicted samples. Use `zero_division` parameter to control this behavior.\n",
            "  _warn_prf(average, modifier, f\"{metric.capitalize()} is\", len(result))\n",
            "/usr/local/lib/python3.11/dist-packages/sklearn/metrics/_classification.py:1565: UndefinedMetricWarning: Precision is ill-defined and being set to 0.0 in labels with no predicted samples. Use `zero_division` parameter to control this behavior.\n",
            "  _warn_prf(average, modifier, f\"{metric.capitalize()} is\", len(result))\n"
          ]
        }
      ],
      "source": [
        "print(classification_report(y_test, y_pred))"
      ]
    },
    {
      "cell_type": "code",
      "execution_count": 29,
      "metadata": {
        "id": "JRFE4yQ9JQ-_"
      },
      "outputs": [],
      "source": [
        "baseline_ctr = email_table['clicked'].mean()\n",
        "model_predicted_ctr = best_model.predict_proba(X)[:, 1].mean()\n",
        "improvement = ((model_predicted_ctr - baseline_ctr) / baseline_ctr) * 100"
      ]
    },
    {
      "cell_type": "code",
      "execution_count": 30,
      "metadata": {
        "colab": {
          "base_uri": "https://localhost:8080/"
        },
        "id": "664w7y5LLDdD",
        "outputId": "1b60b079-2b4f-4321-b913-b093a7c33867"
      },
      "outputs": [
        {
          "name": "stdout",
          "output_type": "stream",
          "text": [
            "Potential CTR Improvement: -1.68%\n"
          ]
        }
      ],
      "source": [
        "print(f\"Potential CTR Improvement: {improvement:.2f}%\")"
      ]
    },
    {
      "cell_type": "markdown",
      "metadata": {
        "id": "qEPDQRL7NwTb"
      },
      "source": [
        "# Feature Engineering\n"
      ]
    },
    {
      "cell_type": "code",
      "execution_count": 31,
      "metadata": {
        "id": "9yTD-27uN0cG"
      },
      "outputs": [],
      "source": [
        "email_table['is_weekend'] = email_table['weekday_encoded'].isin([5, 6]).astype(int)\n",
        "email_table['is_work_hour'] = email_table['hour'].between(9, 17).astype(int)\n",
        "email_table['email_sent_bin'] = pd.cut(email_table['hour'], bins=[0, 6, 12, 18, 24], labels=['night', 'morning', 'afternoon', 'evening'])\n",
        "email_table['email_sent_bin_encoded'] = email_table['email_sent_bin'].astype('category').cat.codes\n",
        "email_table['version_text_combo'] = email_table['email_version_encoded'] * email_table['email_text_encoded']\n",
        "email_table['user_engagement'] = email_table['user_past_purchases'] * email_table['opened']\n",
        "country_ctr = email_table.groupby('user_country_encoded')['clicked'].mean()\n",
        "email_table['country_ctr'] = email_table['user_country_encoded'].map(country_ctr)\n",
        "email_table['purchase_bin'] = pd.cut(email_table['user_past_purchases'], bins=[-1, 0, 5, 20, 100], labels=['none', 'low', 'med', 'high'])\n",
        "email_table['purchase_bin_encoded'] = email_table['purchase_bin'].astype('category').cat.codes"
      ]
    },
    {
      "cell_type": "code",
      "execution_count": 32,
      "metadata": {
        "colab": {
          "base_uri": "https://localhost:8080/"
        },
        "id": "-sKcFshOviUO",
        "outputId": "bad13ac3-9700-469d-ac90-b5470008005c"
      },
      "outputs": [
        {
          "data": {
            "text/plain": [
              "Index(['email_id', 'email_text', 'email_version', 'hour', 'weekday',\n",
              "       'user_country', 'user_past_purchases', 'opened', 'clicked',\n",
              "       'email_version_encoded', 'email_text_encoded', 'weekday_encoded',\n",
              "       'user_country_encoded', 'is_weekend', 'is_work_hour', 'email_sent_bin',\n",
              "       'email_sent_bin_encoded', 'version_text_combo', 'user_engagement',\n",
              "       'country_ctr', 'purchase_bin', 'purchase_bin_encoded'],\n",
              "      dtype='object')"
            ]
          },
          "execution_count": 32,
          "metadata": {},
          "output_type": "execute_result"
        }
      ],
      "source": [
        "email_table.columns"
      ]
    },
    {
      "cell_type": "code",
      "execution_count": 33,
      "metadata": {
        "id": "-VLdpfCGN7O2"
      },
      "outputs": [],
      "source": [
        "features = [\n",
        "    'email_version_encoded',\n",
        "    'email_text_encoded',\n",
        "    'hour',\n",
        "    'weekday_encoded',\n",
        "    'user_country_encoded',\n",
        "    'user_past_purchases',\n",
        "    'is_weekend',\n",
        "    'is_work_hour',\n",
        "    'email_sent_bin_encoded',\n",
        "    'version_text_combo',\n",
        "    'user_engagement',\n",
        "    'country_ctr',\n",
        "    'purchase_bin_encoded'\n",
        "]\n",
        "X = email_table[features]\n",
        "y = email_table['clicked']"
      ]
    },
    {
      "cell_type": "code",
      "execution_count": 34,
      "metadata": {
        "id": "GGwnroMaN90J"
      },
      "outputs": [],
      "source": [
        "X_train, X_test, y_train, y_test = train_test_split(X, y, test_size=0.2, random_state=42)"
      ]
    },
    {
      "cell_type": "code",
      "execution_count": 35,
      "metadata": {
        "colab": {
          "base_uri": "https://localhost:8080/"
        },
        "id": "IIc0UtuIOAP3",
        "outputId": "22d53b79-02b9-4377-f231-e5166c4b511b"
      },
      "outputs": [
        {
          "name": "stdout",
          "output_type": "stream",
          "text": [
            "(80000, 13)\n",
            "(20000, 13)\n",
            "(80000,)\n",
            "(20000,)\n"
          ]
        }
      ],
      "source": [
        "print(X_train.shape)\n",
        "print(X_test.shape)\n",
        "print(y_train.shape)\n",
        "print(y_test.shape)"
      ]
    },
    {
      "cell_type": "code",
      "execution_count": 36,
      "metadata": {
        "id": "-AdoJbF8OCWn"
      },
      "outputs": [],
      "source": [
        "models = [LogisticRegression(), DecisionTreeClassifier(), RandomForestClassifier(), GradientBoostingClassifier(), KNeighborsClassifier(), XGBClassifier(), SVC()]\n"
      ]
    },
    {
      "cell_type": "code",
      "execution_count": 37,
      "metadata": {
        "colab": {
          "base_uri": "https://localhost:8080/"
        },
        "id": "ZN4spjXSOEpH",
        "outputId": "08f7eea2-3c02-4efc-e890-0ef99751033e"
      },
      "outputs": [
        {
          "name": "stdout",
          "output_type": "stream",
          "text": [
            "LogisticRegression:\n",
            "Accuracy: 0.9771\n",
            "Precision: 0.9656156552538372\n",
            "Recall: 0.9771\n",
            "F1-score: 0.9674135483223192\n",
            "Score: 0.9771\n",
            "\n",
            "Best model updated: LogisticRegression()\n",
            "DecisionTreeClassifier:\n",
            "Accuracy: 0.96935\n",
            "Precision: 0.9659227599873249\n",
            "Recall: 0.96935\n",
            "F1-score: 0.9675504457157759\n",
            "Score: 0.96935\n",
            "\n",
            "Best model updated: LogisticRegression()\n",
            "RandomForestClassifier:\n",
            "Accuracy: 0.9715\n",
            "Precision: 0.9649054275757563\n",
            "Recall: 0.9715\n",
            "F1-score: 0.9678370014036071\n",
            "Score: 0.9715\n",
            "\n",
            "Best model updated: LogisticRegression()\n",
            "GradientBoostingClassifier:\n",
            "Accuracy: 0.9769\n",
            "Precision: 0.9646157541821938\n",
            "Recall: 0.9769\n",
            "F1-score: 0.9673021287445334\n",
            "Score: 0.9769\n",
            "\n",
            "Best model updated: LogisticRegression()\n",
            "KNeighborsClassifier:\n",
            "Accuracy: 0.97335\n",
            "Precision: 0.9627845850462823\n",
            "Recall: 0.97335\n",
            "F1-score: 0.9671434530912784\n",
            "Score: 0.97335\n",
            "\n",
            "Best model updated: LogisticRegression()\n",
            "XGBClassifier:\n",
            "Accuracy: 0.97615\n",
            "Precision: 0.9644254041164658\n",
            "Recall: 0.97615\n",
            "F1-score: 0.9679174397201054\n",
            "Score: 0.97615\n",
            "\n",
            "Best model updated: LogisticRegression()\n",
            "SVC:\n",
            "Accuracy: 0.97735\n",
            "Precision: 0.9552130225000001\n",
            "Recall: 0.97735\n",
            "F1-score: 0.966154724757883\n",
            "Score: 0.97735\n",
            "\n",
            "Best model updated: SVC()\n"
          ]
        },
        {
          "name": "stderr",
          "output_type": "stream",
          "text": [
            "/usr/local/lib/python3.11/dist-packages/sklearn/metrics/_classification.py:1565: UndefinedMetricWarning: Precision is ill-defined and being set to 0.0 in labels with no predicted samples. Use `zero_division` parameter to control this behavior.\n",
            "  _warn_prf(average, modifier, f\"{metric.capitalize()} is\", len(result))\n"
          ]
        }
      ],
      "source": [
        "best_score = 0\n",
        "best_model = None\n",
        "for model in models:\n",
        "    model.fit(X_train, y_train)\n",
        "    y_pred = model.predict(X_test)\n",
        "    score = model.score(X_test, y_test)\n",
        "    print(f\"{model.__class__.__name__}:\")\n",
        "    print(\"Accuracy:\", mt.accuracy_score(y_test, y_pred))\n",
        "    print(\"Precision:\", mt.precision_score(y_test, y_pred, average='weighted'))\n",
        "    print(\"Recall:\", mt.recall_score(y_test, y_pred, average='weighted'))\n",
        "    print(\"F1-score:\", mt.f1_score(y_test, y_pred, average='weighted'))\n",
        "    print(\"Score:\", score)\n",
        "    print()\n",
        "    if score > best_score:\n",
        "        best_score = score\n",
        "        best_model = model\n",
        "    print(\"Best model updated:\", best_model)"
      ]
    },
    {
      "cell_type": "code",
      "execution_count": 38,
      "metadata": {
        "colab": {
          "base_uri": "https://localhost:8080/"
        },
        "id": "wfjdVPbrOGAR",
        "outputId": "586813a9-4196-4599-eb1b-c2f724b0781d"
      },
      "outputs": [
        {
          "name": "stdout",
          "output_type": "stream",
          "text": [
            "Best Model: SVC , Best Score: 0.97735\n"
          ]
        }
      ],
      "source": [
        "print(\"Best Model:\", best_model.__class__.__name__, \", Best Score:\", best_score)"
      ]
    },
    {
      "cell_type": "code",
      "execution_count": 39,
      "metadata": {
        "id": "QmZ56y2KOOns"
      },
      "outputs": [],
      "source": [
        "# model = SVC(probability=True)\n",
        "# model.fit(X_train, y_train)"
      ]
    },
    {
      "cell_type": "code",
      "execution_count": 40,
      "metadata": {
        "id": "1C8QojcWPP5L"
      },
      "outputs": [],
      "source": [
        "# baseline_ctr = email_table['clicked'].mean()\n",
        "# model_predicted_ctr = model.predict_proba(X)[:, 1].mean()\n",
        "# improvement = ((model_predicted_ctr - baseline_ctr) / baseline_ctr) * 100"
      ]
    },
    {
      "cell_type": "code",
      "execution_count": 41,
      "metadata": {
        "id": "II7euqyLPWdX"
      },
      "outputs": [],
      "source": [
        "# print(f\"Potential CTR Improvement: {improvement:.2f}%\")"
      ]
    },
    {
      "cell_type": "code",
      "execution_count": 42,
      "metadata": {
        "colab": {
          "base_uri": "https://localhost:8080/"
        },
        "id": "cYeoucu_lPjb",
        "outputId": "c2622f41-f2cb-4424-a406-a5c2774138eb"
      },
      "outputs": [
        {
          "name": "stdout",
          "output_type": "stream",
          "text": [
            "Fitting 3 folds for each of 4 candidates, totalling 12 fits\n",
            "Tuned Model Potential CTR Improvement: 2.89%\n"
          ]
        }
      ],
      "source": [
        "from sklearn.model_selection import GridSearchCV\n",
        "\n",
        "param_grid = {\n",
        "    'C': [1, 10],\n",
        "    'gamma': [0.01, 0.1],\n",
        "    'kernel': ['rbf'],  \n",
        "    'probability': [True]\n",
        "}\n",
        "\n",
        "grid_search = GridSearchCV(SVC(), param_grid, cv=3, scoring='roc_auc', n_jobs=-1, verbose=2)\n",
        "grid_search.fit(X_train, y_train)\n",
        "best_svc = grid_search.best_estimator_\n",
        "\n",
        "\n",
        "baseline_ctr = email_table['clicked'].mean()\n",
        "model_predicted_ctr = best_svc.predict_proba(X)[:, 1].mean()\n",
        "improvement = ((model_predicted_ctr - baseline_ctr) / baseline_ctr) * 100\n",
        "print(f\"Tuned Model Potential CTR Improvement: {improvement:.2f}%\")"
      ]
    },
    {
      "cell_type": "code",
      "execution_count": null,
      "metadata": {
        "id": "W-Ok6koxl45X"
      },
      "outputs": [],
      "source": []
    }
  ],
  "metadata": {
    "colab": {
      "provenance": []
    },
    "kernelspec": {
      "display_name": "Python 3",
      "name": "python3"
    },
    "language_info": {
      "name": "python"
    }
  },
  "nbformat": 4,
  "nbformat_minor": 0
}
